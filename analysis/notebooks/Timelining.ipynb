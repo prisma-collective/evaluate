{
 "cells": [
  {
   "cell_type": "code",
   "execution_count": null,
   "id": "3a79a946-5727-431a-8abd-ef12e0351800",
   "metadata": {},
   "outputs": [],
   "source": [
    "import os\n",
    "from dotenv import load_dotenv\n",
    "from neo4j import GraphDatabase\n",
    "import pandas as pd\n",
    "from pathlib import Path\n",
    "\n",
    "print(os.getcwd())\n",
    "\n",
    "env_path = Path('..') / '.env.local'\n",
    "load_dotenv(dotenv_path=env_path)\n",
    "\n",
    "# Retrieve credentials\n",
    "uri = os.getenv(\"NEO4J_URI\")\n",
    "username = os.getenv(\"NEO4J_USER\")\n",
    "password = os.getenv(\"NEO4J_PASSWORD\")\n",
    "\n",
    "print(uri)\n",
    "\n",
    "driver = GraphDatabase.driver(uri, auth=(username, password))"
   ]
  },
  {
   "cell_type": "code",
   "execution_count": null,
   "id": "7e9cd627-f89c-426f-80fd-061b1ed66c4e",
   "metadata": {},
   "outputs": [],
   "source": [
    "def run_cypher(query):\n",
    "    with driver.session() as session:\n",
    "        result = session.run(query)\n",
    "        return pd.DataFrame([r.data() for r in result])\n"
   ]
  },
  {
   "cell_type": "code",
   "execution_count": null,
   "id": "e43446a7-524d-4a99-bdf5-ab7d71b56edc",
   "metadata": {},
   "outputs": [],
   "source": [
    "df = run_cypher(\"MATCH (n:Participant) RETURN count(n) AS count\")\n",
    "print(df)"
   ]
  },
  {
   "cell_type": "code",
   "execution_count": null,
   "id": "0e518a4b-ca16-4bc6-b229-4101a12dac0a",
   "metadata": {},
   "outputs": [],
   "source": [
    "query = \"\"\"\n",
    "MATCH (entry:Entry)-[:HAS_VOICE]->(voice:Voice)\n",
    "RETURN voice, entry.date AS date\n",
    "ORDER BY date\n",
    "\"\"\"\n",
    "\n",
    "from datetime import datetime\n",
    "\n",
    "def neo4j_datetime_to_py(datetime_obj):\n",
    "    # Convert neo4j.time.DateTime to Python datetime\n",
    "    return datetime_obj.to_native()\n",
    "\n",
    "def run_cypher(query):\n",
    "    with driver.session() as session:\n",
    "        result = session.run(query)\n",
    "        records = []\n",
    "        for record in result:\n",
    "            voice_node = record[\"voice\"]\n",
    "            voice_props = dict(voice_node.items())\n",
    "            # Convert neo4j DateTime to Python datetime for the 'date' field\n",
    "            voice_props[\"date\"] = neo4j_datetime_to_py(record[\"date\"])\n",
    "            records.append(voice_props)\n",
    "        return pd.DataFrame(records)\n",
    "\n",
    "\n",
    "df = run_cypher(query)\n",
    "print(df.head())\n"
   ]
  },
  {
   "cell_type": "code",
   "execution_count": null,
   "id": "d039636e-f03c-4458-8909-69db4e5212f4",
   "metadata": {
    "scrolled": true
   },
   "outputs": [],
   "source": [
    "import plotly.express as px\n",
    "\n",
    "df['date'] = pd.to_datetime(df['date'])\n",
    "\n",
    "fig = px.scatter(\n",
    "    df,\n",
    "    x='date',\n",
    "    y='duration',\n",
    "    title='Voice Notes: Duration over Time',\n",
    "    labels={'date': 'Date', 'duration': 'Duration (seconds)'},\n",
    "    hover_data=df.columns  # Show all data on hover\n",
    ")"
   ]
  },
  {
   "cell_type": "code",
   "execution_count": null,
   "id": "d8f8b784-d2c2-4847-85da-9028fe907cee",
   "metadata": {},
   "outputs": [],
   "source": [
    "fig.show(\"notebook_connected\")"
   ]
  },
  {
   "cell_type": "code",
   "execution_count": null,
   "id": "ccde9bdf-074b-4e46-bb1d-9bf0851198e1",
   "metadata": {},
   "outputs": [],
   "source": [
    "query = \"\"\"\n",
    "MATCH (p:Participant)<-[:SENT_BY]-(e:Entry)\n",
    "RETURN p.handle AS handle, count(e) AS entry_count\n",
    "ORDER BY entry_count DESC\n",
    "\"\"\"\n",
    "\n",
    "def run_cypher(query):\n",
    "    with driver.session() as session:\n",
    "        result = session.run(query)\n",
    "        data = [record.data() for record in result]\n",
    "        return pd.DataFrame(data)\n",
    "\n",
    "df_participant_counts = run_cypher(query)"
   ]
  },
  {
   "cell_type": "code",
   "execution_count": null,
   "id": "7bdacca1-80fe-45fb-a75e-01bb4e41e63c",
   "metadata": {},
   "outputs": [],
   "source": [
    "fig = px.bar(\n",
    "    df_participant_counts,\n",
    "    x='handle',\n",
    "    y='entry_count',\n",
    "    title='Number of Entries per Participant',\n",
    "    labels={'handle': 'Participant Handle', 'entry_count': 'Entry Count'},\n",
    "    text='entry_count'\n",
    ")\n",
    "\n",
    "fig.update_traces(textposition='outside')\n",
    "fig.update_layout(xaxis_tickangle=-45)\n",
    "\n",
    "fig.show(\"notebook_connected\")\n"
   ]
  },
  {
   "cell_type": "code",
   "execution_count": null,
   "id": "748aaa17-3345-4a4c-ae33-d552a074f029",
   "metadata": {},
   "outputs": [],
   "source": []
  }
 ],
 "metadata": {
  "kernelspec": {
   "display_name": "Python 3 (ipykernel)",
   "language": "python",
   "name": "python3"
  },
  "language_info": {
   "codemirror_mode": {
    "name": "ipython",
    "version": 3
   },
   "file_extension": ".py",
   "mimetype": "text/x-python",
   "name": "python",
   "nbconvert_exporter": "python",
   "pygments_lexer": "ipython3",
   "version": "3.12.3"
  }
 },
 "nbformat": 4,
 "nbformat_minor": 5
}
