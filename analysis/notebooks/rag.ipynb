{
 "cells": [
  {
   "cell_type": "code",
   "execution_count": null,
   "id": "3a79a946-5727-431a-8abd-ef12e0351800",
   "metadata": {},
   "outputs": [],
   "source": [
    "import os\n",
    "from dotenv import load_dotenv\n",
    "from neo4j import GraphDatabase\n",
    "import pandas as pd\n",
    "from pathlib import Path\n",
    "\n",
    "print(os.getcwd())\n",
    "\n",
    "env_path = Path('..') / '.env.local'\n",
    "load_dotenv(dotenv_path=env_path)\n",
    "\n",
    "# Retrieve credentials\n",
    "uri = os.getenv(\"NEO4J_URI\")\n",
    "username = os.getenv(\"NEO4J_USER\")\n",
    "password = os.getenv(\"NEO4J_PASSWORD\")\n",
    "\n",
    "print(uri)\n",
    "\n",
    "driver = GraphDatabase.driver(uri, auth=(username, password))"
   ]
  },
  {
   "cell_type": "code",
   "execution_count": null,
   "id": "fe1b6e05-3c7b-46c0-b36b-6f5c441f6c71",
   "metadata": {},
   "outputs": [],
   "source": [
    "# Index parameters\n",
    "INDEX_NAME = \"voice-vector-index\"\n",
    "NODE_LABEL = \"Voice\"\n",
    "PROPERTY_NAME = \"embedding\"\n",
    "DIMENSIONS = 3072  # For OpenAI \"text-embedding-3-large\"\n",
    "SIMILARITY_FUNCTION = \"cosine\"  # or 'euclidean' or 'dot'\n",
    "\n",
    "# Create the index\n",
    "def create_vector_index(driver):\n",
    "    cypher = f\"\"\"\n",
    "    CALL db.index.vector.createNodeIndex(\n",
    "        '{INDEX_NAME}',\n",
    "        '{NODE_LABEL}',\n",
    "        '{PROPERTY_NAME}',\n",
    "        {DIMENSIONS},\n",
    "        '{SIMILARITY_FUNCTION}'\n",
    "    )\n",
    "    \"\"\"\n",
    "    with driver.session() as session:\n",
    "        try:\n",
    "            session.run(cypher)\n",
    "            print(f\"✅ Vector index '{INDEX_NAME}' created successfully.\")\n",
    "        except Exception as e:\n",
    "            print(f\"❌ Failed to create vector index: {e}\")"
   ]
  },
  {
   "cell_type": "code",
   "execution_count": null,
   "id": "3f7258d5-cb02-4a62-bd0b-7158148ec616",
   "metadata": {},
   "outputs": [],
   "source": [
    "create_vector_index(driver)"
   ]
  },
  {
   "cell_type": "code",
   "execution_count": null,
   "id": "20f3b1ac-2563-47a5-b206-577ada883a8e",
   "metadata": {},
   "outputs": [],
   "source": [
    "from neo4j import GraphDatabase\n",
    "from neo4j_graphrag.retrievers import VectorRetriever\n",
    "from neo4j_graphrag.llm import OpenAILLM\n",
    "from neo4j_graphrag.generation import GraphRAG\n",
    "from neo4j_graphrag.embeddings import OpenAIEmbeddings"
   ]
  },
  {
   "cell_type": "code",
   "execution_count": null,
   "id": "43667405-f91a-4791-818a-02dd50b268bc",
   "metadata": {},
   "outputs": [],
   "source": [
    "embedder = OpenAIEmbeddings(model=\"text-embedding-3-large\")\n",
    "\n",
    "# Initialize the retriever\n",
    "retriever = VectorRetriever(driver, INDEX_NAME, embedder)\n",
    "\n",
    "# 3. LLM\n",
    "# Note: the OPENAI_API_KEY must be in the env vars\n",
    "llm = OpenAILLM(model_name=\"gpt-4o\", model_params={\"temperature\": 0})\n",
    "\n",
    "# Initialize the RAG pipeline\n",
    "rag = GraphRAG(retriever=retriever, llm=llm)"
   ]
  },
  {
   "cell_type": "code",
   "execution_count": null,
   "id": "67837315-2236-4a99-b3e3-1552e4a04f6f",
   "metadata": {},
   "outputs": [],
   "source": [
    "# Query the graph\n",
    "query_text = \"What were some of the main themes of value? Use only the context provided.\"\n",
    "response = rag.search(query_text=query_text, retriever_config={\"top_k\": 5})\n",
    "print(response.answer)"
   ]
  },
  {
   "cell_type": "markdown",
   "id": "1635ba22-8665-455d-8982-0d9b3eed4be2",
   "metadata": {},
   "source": [
    "Below currently doesn't work as we need to chunk large transcripts."
   ]
  },
  {
   "cell_type": "code",
   "execution_count": null,
   "id": "a37e16cc-e9be-48b9-bdd4-0a2eabd812da",
   "metadata": {},
   "outputs": [],
   "source": [
    "from neo4j_graphrag.retrievers import VectorCypherRetriever\n",
    "\n",
    "# Cypher to retrieve only facilitator voice reflections\n",
    "retrieval_query = \"\"\"\n",
    "MATCH (v:Voice)<-[:HAS_VOICE]-(e:Entry)-[:SENT_BY]->(p:Participant)\n",
    "WHERE p.role = 'facilitator'\n",
    "RETURN v.transcription AS content\n",
    "\"\"\"\n",
    "\n",
    "# Set up the retriever\n",
    "retriever = VectorCypherRetriever(\n",
    "    driver=driver,\n",
    "    index_name=\"voice-vector-index\",       # Make sure this matches your vector index name\n",
    "    retrieval_query=retrieval_query,\n",
    "    embedder=embedder\n",
    ")\n",
    "\n",
    "# Re-initialize the RAG pipeline\n",
    "rag = GraphRAG(retriever=retriever, llm=llm)\n",
    "\n",
    "# Example query\n",
    "response = rag.search(query_text=\"How did facilitators respond to uncertainty?\", retriever_config={\"top_k\": 2})\n",
    "\n",
    "# Print results\n",
    "print(response.answer)"
   ]
  },
  {
   "cell_type": "code",
   "execution_count": null,
   "id": "f8a0bf68-1c67-4285-945d-dd072ccef26b",
   "metadata": {},
   "outputs": [],
   "source": []
  }
 ],
 "metadata": {
  "kernelspec": {
   "display_name": "Python 3 (ipykernel)",
   "language": "python",
   "name": "python3"
  },
  "language_info": {
   "codemirror_mode": {
    "name": "ipython",
    "version": 3
   },
   "file_extension": ".py",
   "mimetype": "text/x-python",
   "name": "python",
   "nbconvert_exporter": "python",
   "pygments_lexer": "ipython3",
   "version": "3.12.3"
  }
 },
 "nbformat": 4,
 "nbformat_minor": 5
}
